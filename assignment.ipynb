{
 "cells": [
  {
   "attachments": {},
   "cell_type": "markdown",
   "metadata": {},
   "source": [
    "## CASSANDRA ASSIGNMENT_Gopi Chand Yenikapalli"
   ]
  },
  {
   "attachments": {},
   "cell_type": "markdown",
   "metadata": {},
   "source": [
    "### Import packages"
   ]
  },
  {
   "cell_type": "code",
   "execution_count": 1,
   "metadata": {},
   "outputs": [],
   "source": [
    "import pandas as pd\n",
    "from cassandra.cluster import Cluster"
   ]
  },
  {
   "attachments": {},
   "cell_type": "markdown",
   "metadata": {},
   "source": [
    "### Create a session connection to Cassandra cluster"
   ]
  },
  {
   "cell_type": "code",
   "execution_count": 2,
   "metadata": {},
   "outputs": [],
   "source": [
    "clstr = Cluster()\n",
    "session = clstr.connect()"
   ]
  },
  {
   "attachments": {},
   "cell_type": "markdown",
   "metadata": {},
   "source": [
    "### Use session to 'talk' to cassandra"
   ]
  },
  {
   "cell_type": "code",
   "execution_count": 3,
   "metadata": {},
   "outputs": [
    {
     "data": {
      "text/plain": [
       "<cassandra.cluster.ResultSet at 0x7f3390e94ca0>"
      ]
     },
     "execution_count": 3,
     "metadata": {},
     "output_type": "execute_result"
    }
   ],
   "source": [
    "session.execute(\"DROP KEYSPACE IF EXISTS m14\")"
   ]
  },
  {
   "cell_type": "code",
   "execution_count": 4,
   "metadata": {},
   "outputs": [
    {
     "name": "stdout",
     "output_type": "stream",
     "text": [
      "system\n",
      "system_auth\n",
      "system_distributed\n",
      "system_schema\n",
      "system_traces\n",
      "system_views\n",
      "system_virtual_schema\n",
      "w04python\n"
     ]
    }
   ],
   "source": [
    "rows = session.execute(\"desc keyspaces\")\n",
    "for row in rows:\n",
    "    print(f\"{row[0]}\")"
   ]
  },
  {
   "cell_type": "code",
   "execution_count": 5,
   "metadata": {},
   "outputs": [
    {
     "data": {
      "text/plain": [
       "<cassandra.cluster.ResultSet at 0x7f3390e94fa0>"
      ]
     },
     "execution_count": 5,
     "metadata": {},
     "output_type": "execute_result"
    }
   ],
   "source": [
    "session.execute(\"CREATE KEYSPACE IF NOT EXISTS m14 WITH REPLICATION = {'class':'SimpleStrategy', 'replication_factor':2}\")"
   ]
  },
  {
   "cell_type": "code",
   "execution_count": 6,
   "metadata": {},
   "outputs": [
    {
     "name": "stdout",
     "output_type": "stream",
     "text": [
      "m14\n",
      "system\n",
      "system_auth\n",
      "system_distributed\n",
      "system_schema\n",
      "system_traces\n",
      "system_views\n",
      "system_virtual_schema\n",
      "w04python\n"
     ]
    }
   ],
   "source": [
    "rows = session.execute(\"desc keyspaces\")\n",
    "for row in rows:\n",
    "    print(f\"{row[0]}\")"
   ]
  },
  {
   "attachments": {},
   "cell_type": "markdown",
   "metadata": {},
   "source": [
    "Create a inventory table for testing"
   ]
  },
  {
   "cell_type": "code",
   "execution_count": 7,
   "metadata": {},
   "outputs": [
    {
     "data": {
      "text/plain": [
       "<cassandra.cluster.ResultSet at 0x7f3390e94160>"
      ]
     },
     "execution_count": 7,
     "metadata": {},
     "output_type": "execute_result"
    }
   ],
   "source": [
    "session.execute(\"\"\"\n",
    "CREATE TABLE IF NOT EXISTS m14.inventory (\n",
    "    sku TEXT, \n",
    "    name TEXT, \n",
    "    description TEXT, \n",
    "    warehouse_num INT,\n",
    "    PRIMARY KEY(sku, warehouse_num)\n",
    ");\n",
    "\"\"\")"
   ]
  },
  {
   "cell_type": "code",
   "execution_count": 8,
   "metadata": {},
   "outputs": [],
   "source": [
    "\n",
    "# Sample data to insert\n",
    "sample_data = [\n",
    "    (\"SKU001\", \"TV\", \"led tv 25 inch curved edge\", 1),\n",
    "    (\"SKU002\", \"headphone\", \"headphone pro3, \", 1),\n",
    "    (\"SKU003\", \"toolkit\", \"toolkit driver 12 set\", 3),\n",
    "    (\"SKU004\", \"cycle\", \"cycle adult racing\", 3),\n",
    "    (\"SKU005\", \"clothe\", \"men 32 slimfit\", 2),\n",
    "    (\"SKU006\", \"blub\", \"light 32w daylight\", 3),\n",
    "    (\"SKU007\", \"laptop\", \"dell 16gb i7\", 1),\n",
    "    (\"SKU008\", \"water\", \"12pack 1L\", 4),\n",
    "    (\"SKU009\", \"mobile\", \"iphone 14 promax\", 2)\n",
    "]\n",
    "\n",
    "# Insert the data\n",
    "for entry in sample_data:\n",
    "    insert_query = \"\"\"\n",
    "    INSERT INTO m14.inventory (sku, name, description, warehouse_num)\n",
    "    VALUES (%s, %s, %s, %s)\n",
    "    \"\"\"\n",
    "    session.execute(insert_query, entry)\n"
   ]
  },
  {
   "cell_type": "code",
   "execution_count": 9,
   "metadata": {},
   "outputs": [
    {
     "name": "stdout",
     "output_type": "stream",
     "text": [
      "SKU\t\tName\t\tDescription\t\tWarehouse Number\n",
      "--------------------------------------------------------------------------------\n",
      "SKU005\t\tclothe\t\tmen 32 slimfit\t\t2\n",
      "SKU002\t\theadphone\t\theadphone pro3, \t\t1\n",
      "SKU008\t\twater\t\t12pack 1L\t\t4\n",
      "SKU006\t\tblub\t\tlight 32w daylight\t\t3\n",
      "SKU004\t\tcycle\t\tcycle adult racing\t\t3\n",
      "SKU001\t\tTV\t\tled tv 25 inch curved edge\t\t1\n",
      "SKU003\t\ttoolkit\t\ttoolkit driver 12 set\t\t3\n",
      "SKU009\t\tmobile\t\tiphone 14 promax\t\t2\n",
      "SKU007\t\tlaptop\t\tdell 16gb i7\t\t1\n"
     ]
    }
   ],
   "source": [
    "# Query to fetch all records from store_inventory\n",
    "query = \"SELECT * FROM m14.inventory\"\n",
    "rows = session.execute(query)\n",
    "\n",
    "# Print the data\n",
    "print(\"SKU\\t\\tName\\t\\tDescription\\t\\tWarehouse Number\")\n",
    "print(\"-\" * 80)  # just a separator line\n",
    "for row in rows:\n",
    "    print(f\"{row.sku}\\t\\t{row.name}\\t\\t{row.description}\\t\\t{row.warehouse_num}\")\n"
   ]
  },
  {
   "cell_type": "code",
   "execution_count": 10,
   "metadata": {},
   "outputs": [
    {
     "name": "stdout",
     "output_type": "stream",
     "text": [
      "sku=SKU005, name=clothe, description=men 32 slimfit, warehouse_num=2\n",
      "sku=SKU002, name=headphone, description=headphone pro3, , warehouse_num=1\n",
      "sku=SKU008, name=water, description=12pack 1L, warehouse_num=4\n",
      "sku=SKU006, name=blub, description=light 32w daylight, warehouse_num=3\n",
      "sku=SKU004, name=cycle, description=cycle adult racing, warehouse_num=3\n",
      "sku=SKU001, name=TV, description=led tv 25 inch curved edge, warehouse_num=1\n",
      "sku=SKU003, name=toolkit, description=toolkit driver 12 set, warehouse_num=3\n",
      "sku=SKU009, name=mobile, description=iphone 14 promax, warehouse_num=2\n",
      "sku=SKU007, name=laptop, description=dell 16gb i7, warehouse_num=1\n"
     ]
    }
   ],
   "source": [
    "rows = session.execute(\"SELECT (sku, name, description, warehouse_num) FROM m14.inventory\")\n",
    "for row in rows:\n",
    "    print(f\"sku={row[0][0]}, name={row[0][1]}, description={row[0][2]}, warehouse_num={row[0][3]}\")"
   ]
  },
  {
   "cell_type": "code",
   "execution_count": 19,
   "metadata": {},
   "outputs": [
    {
     "name": "stdout",
     "output_type": "stream",
     "text": [
      "SKU002, headphone, headphone pro3, , 1\n",
      "SKU001, TV, led tv 25 inch curved edge, 1\n",
      "SKU007, laptop, dell 16gb i7, 1\n"
     ]
    }
   ],
   "source": [
    "rows = session.execute(\"SELECT (sku, name, description, warehouse_num) FROM m14.inventory WHERE warehouse_num = 1 ALLOW FILTERING \")\n",
    "for row in rows:\n",
    "    print(f\"{row[0][0]}, {row[0][1]}, {row[0][2]}, {row[0][3]}\")"
   ]
  },
  {
   "attachments": {},
   "cell_type": "markdown",
   "metadata": {},
   "source": [
    "The above query will generate an error. You can make this work by allowing filtering, but this is not a good idea."
   ]
  },
  {
   "cell_type": "code",
   "execution_count": 12,
   "metadata": {},
   "outputs": [
    {
     "name": "stdout",
     "output_type": "stream",
     "text": [
      "SKU002, headphone, headphone pro3, , 1\n",
      "SKU001, TV, led tv 25 inch curved edge, 1\n",
      "SKU007, laptop, dell 16gb i7, 1\n"
     ]
    }
   ],
   "source": [
    "rows = session.execute(\"SELECT (sku, name, description, warehouse_num) FROM m14.inventory WHERE warehouse_num = 1 ALLOW FILTERING\")\n",
    "for row in rows:\n",
    "    print(f\"{row[0][0]}, {row[0][1]}, {row[0][2]}, {row[0][3]}\")"
   ]
  },
  {
   "cell_type": "code",
   "execution_count": 11,
   "metadata": {},
   "outputs": [
    {
     "data": {
      "text/plain": [
       "<cassandra.cluster.ResultSet at 0x7f3356b23fa0>"
      ]
     },
     "execution_count": 11,
     "metadata": {},
     "output_type": "execute_result"
    }
   ],
   "source": [
    "# Create an index on warehouse_num in the inventory table\n",
    "session.execute(\"\"\"\n",
    "CREATE INDEX IF NOT EXISTS warehouse_num\n",
    "ON m14.inventory (warehouse_num);\n",
    "\"\"\")"
   ]
  },
  {
   "cell_type": "code",
   "execution_count": 13,
   "metadata": {},
   "outputs": [
    {
     "name": "stdout",
     "output_type": "stream",
     "text": [
      "SKU006, blub, light 32w daylight, 3\n",
      "SKU004, cycle, cycle adult racing, 3\n",
      "SKU003, toolkit, toolkit driver 12 set, 3\n"
     ]
    }
   ],
   "source": [
    "rows = session.execute(\"SELECT (sku, name, description, warehouse_num) FROM m14.inventory WHERE warehouse_num = 3 ALLOW Filtering\")\n",
    "for row in rows:\n",
    "    print(f\"{row[0][0]}, {row[0][1]}, {row[0][2]}, {row[0][3]}\")"
   ]
  },
  {
   "cell_type": "code",
   "execution_count": null,
   "metadata": {},
   "outputs": [],
   "source": []
  }
 ],
 "metadata": {
  "kernelspec": {
   "display_name": "bd",
   "language": "python",
   "name": "python3"
  },
  "language_info": {
   "codemirror_mode": {
    "name": "ipython",
    "version": 3
   },
   "file_extension": ".py",
   "mimetype": "text/x-python",
   "name": "python",
   "nbconvert_exporter": "python",
   "pygments_lexer": "ipython3",
   "version": "3.10.10"
  },
  "orig_nbformat": 4
 },
 "nbformat": 4,
 "nbformat_minor": 2
}
